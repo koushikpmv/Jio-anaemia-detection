{
  "nbformat": 4,
  "nbformat_minor": 0,
  "metadata": {
    "colab": {
      "name": "Anaemia detection.ipynb",
      "provenance": [],
      "collapsed_sections": [],
      "mount_file_id": "1vslTmyejlnf9y5yv7JqXCdv2q-3UT25i",
      "authorship_tag": "ABX9TyMZZrOd63KfCYymL5YmV9Q+",
      "include_colab_link": true
    },
    "kernelspec": {
      "name": "python3",
      "display_name": "Python 3"
    },
    "language_info": {
      "name": "python"
    }
  },
  "cells": [
    {
      "cell_type": "markdown",
      "metadata": {
        "id": "view-in-github",
        "colab_type": "text"
      },
      "source": [
        "<a href=\"https://colab.research.google.com/github/koushikpmv/Jio-anaemia-detection-website-data-/blob/main/Anaemia_detection.ipynb\" target=\"_parent\"><img src=\"https://colab.research.google.com/assets/colab-badge.svg\" alt=\"Open In Colab\"/></a>"
      ]
    },
    {
      "cell_type": "code",
      "source": [
        "import pandas as pd\n",
        "import numpy as np\n",
        "import cv2\n",
        "import os\n",
        "import glob\n",
        "from PIL import Image\n",
        "from tensorflow import keras\n",
        "from keras import models, layers\n",
        "from sklearn.model_selection import train_test_split\n",
        "from keras.preprocessing.image import ImageDataGenerator\n",
        "from skimage.transform import rotate\n",
        "from scipy import ndimage"
      ],
      "metadata": {
        "id": "uKLrT2nXGHqq"
      },
      "execution_count": null,
      "outputs": []
    },
    {
      "cell_type": "code",
      "source": [
        "from google.colab import drive\n",
        "drive.mount('/content/drive')"
      ],
      "metadata": {
        "colab": {
          "base_uri": "https://localhost:8080/"
        },
        "id": "nZHQ0ms_9QXX",
        "outputId": "1092ea9c-6517-412d-a0b3-b73e8f87ba77"
      },
      "execution_count": null,
      "outputs": [
        {
          "output_type": "stream",
          "name": "stdout",
          "text": [
            "Drive already mounted at /content/drive; to attempt to forcibly remount, call drive.mount(\"/content/drive\", force_remount=True).\n"
          ]
        }
      ]
    },
    {
      "cell_type": "code",
      "source": [
        "def img_to_numpy_array(folder_path):   #functioin to return numpy array of all the images in the specified folder\n",
        "  data_path = os.path.join(folder_path,'*g')\n",
        "  files = glob.glob(data_path)\n",
        "  img_arr = []\n",
        "  label_arr = []\n",
        "  if folder_path == anaemic_folder:\n",
        "    for image in files:\n",
        "      img = cv2.imread(image)\n",
        "      img_arr.append(img)\n",
        "      label_arr.append(1)\n",
        "  else:\n",
        "    for image in files:\n",
        "      img = cv2.imread(image)\n",
        "      img_arr.append(img)\n",
        "      label_arr.append(0)\n",
        "  img_arr = np.array(img_arr)\n",
        "  label_arr = np.array(label_arr)\n",
        "  img_arr =  img_arr/255\n",
        "  return img_arr,label_arr        "
      ],
      "metadata": {
        "id": "viWfFhPfAhRB"
      },
      "execution_count": 92,
      "outputs": []
    },
    {
      "cell_type": "code",
      "source": [
        "def mean_intensity_array(data_arr):                   #return array containing mean intensitites of all the images in the given array\n",
        "  def mean_intensity_single_image(image,color):       #return mean intensity of a color (red,green,blue) of a single image\n",
        "    rows,columns,rgb = image.shape                    #color in {0,1,2} for R,G,B\n",
        "    intensity = 0\n",
        "    for i in range(rows):\n",
        "      for j in range(columns):\n",
        "        intensity = intensity + image[i][j][color]\n",
        "    mean_intensity_ = intensity/(rows*columns)\n",
        "    return mean_intensity_\n",
        "  mean_intensity_arr=[]\n",
        "  for img in data_arr:\n",
        "    mean_intensity_arr.append([mean_intensity_single_image(img,0),mean_intensity_single_image(img,1)])\n",
        "  mean_intensity_arr = np.array(mean_intensity_arr)\n",
        "  return mean_intensity_arr"
      ],
      "metadata": {
        "id": "kbjIqX12EiW2"
      },
      "execution_count": 97,
      "outputs": []
    },
    {
      "cell_type": "code",
      "source": [
        "def preprocessing_crop_conjunctiva(image):\n",
        "  pass"
      ],
      "metadata": {
        "id": "VRNaBO19Z7lF"
      },
      "execution_count": null,
      "outputs": []
    },
    {
      "cell_type": "code",
      "source": [
        "def img_augmentation():                                                   #Getting error while implementing\n",
        "  data_gen = ImageDataGenerator(rotation_range=45,\n",
        "                              width_shift_range=0.2,\n",
        "                              height_shift_range=0.2,\n",
        "                              horizontal_flip=True,\n",
        "                              vertical_flip=True,\n",
        "                              fill_mode='constant')\n",
        "  return data_gen"
      ],
      "metadata": {
        "id": "4lRYEBCtaDyh"
      },
      "execution_count": null,
      "outputs": []
    },
    {
      "cell_type": "code",
      "source": [
        "def img_augment(x_train,y_train):                                 #Gives augemented (image, label arrays) of 4 times the number of input images.\n",
        "  train_x = x_train\n",
        "  train_y = y_train\n",
        "  final_train_data = []\n",
        "  final_target_train = []\n",
        "  for i in range(train_x.shape[0]):\n",
        "      final_train_data.append(train_x[i])\n",
        "      final_train_data.append(rotate(train_x[i], angle=45, mode = 'wrap'))\n",
        "      final_train_data.append(np.fliplr(train_x[i]))\n",
        "      final_train_data.append(np.flipud(train_x[i]))\n",
        "      for j in range(4):\n",
        "          final_target_train.append(train_y[i])\n",
        "  final_train_data = np.array(final_train_data)\n",
        "  final_target_train = np.array(final_target_train)\n",
        "  return final_train_data,final_target_train"
      ],
      "metadata": {
        "id": "EbwnJt8jt_8a"
      },
      "execution_count": 94,
      "outputs": []
    },
    {
      "cell_type": "code",
      "source": [
        "img_data_folder = '/content/drive/MyDrive/Detection_anaemia'\n",
        "anaemic_folder = '/content/drive/MyDrive/Detection_anaemia/Anaemic'\n",
        "non_anaemic_folder = '/content/drive/MyDrive/Detection_anaemia/Non-Anaemic'"
      ],
      "metadata": {
        "id": "Y-pZ7Gj3ZiTS"
      },
      "execution_count": null,
      "outputs": []
    },
    {
      "cell_type": "code",
      "source": [
        "anaemic_arr,label_anaemic = img_to_numpy_array(anaemic_folder)"
      ],
      "metadata": {
        "id": "cpaUm6v6Jlrf"
      },
      "execution_count": null,
      "outputs": []
    },
    {
      "cell_type": "code",
      "source": [
        "non_anaemic_arr,label_non_anaemic = img_to_numpy_array(non_anaemic_folder)"
      ],
      "metadata": {
        "id": "Q8RSSonmKcu0"
      },
      "execution_count": null,
      "outputs": []
    },
    {
      "cell_type": "code",
      "source": [
        "data_arr = np.concatenate((anaemic_arr,non_anaemic_arr))\n",
        "label_arr = np.concatenate((label_anaemic,label_non_anaemic))"
      ],
      "metadata": {
        "id": "IvDgB58EPDXr"
      },
      "execution_count": null,
      "outputs": []
    },
    {
      "cell_type": "code",
      "source": [
        "x_train,x_test, y_train,y_test = train_test_split(data_arr,label_arr,test_size=0.2)"
      ],
      "metadata": {
        "id": "ma9UW1J_QErS"
      },
      "execution_count": null,
      "outputs": []
    },
    {
      "cell_type": "code",
      "source": [
        "(x_train.shape,x_test.shape),(y_train.shape,y_test.shape)"
      ],
      "metadata": {
        "colab": {
          "base_uri": "https://localhost:8080/"
        },
        "id": "1Yt5qyHfQY7c",
        "outputId": "c498b9c1-62af-4a3f-c9ea-981c9d15b7e6"
      },
      "execution_count": null,
      "outputs": [
        {
          "output_type": "execute_result",
          "data": {
            "text/plain": [
              "(((146, 224, 224, 3), (37, 224, 224, 3)), ((146,), (37,)))"
            ]
          },
          "metadata": {},
          "execution_count": 45
        }
      ]
    },
    {
      "cell_type": "code",
      "source": [
        "final_data_arr,final_label_arr = img_augment(x_train,y_train)"
      ],
      "metadata": {
        "id": "8GAHz5SqQnGB"
      },
      "execution_count": 95,
      "outputs": []
    },
    {
      "cell_type": "code",
      "source": [
        "final_data_arr.shape                #Number of images after augmentation = 584"
      ],
      "metadata": {
        "colab": {
          "base_uri": "https://localhost:8080/"
        },
        "id": "KUgyOjXQw6q1",
        "outputId": "79931416-954c-4ca7-8d4d-c8782add8d0b"
      },
      "execution_count": 98,
      "outputs": [
        {
          "output_type": "execute_result",
          "data": {
            "text/plain": [
              "(584, 224, 224, 3)"
            ]
          },
          "metadata": {},
          "execution_count": 98
        }
      ]
    },
    {
      "cell_type": "code",
      "source": [
        "cnn = models.Sequential([\n",
        "                         \n",
        "                         layers.Conv2D(32,3,activation='relu',input_shape = (224,224,3)),\n",
        "                         layers.MaxPooling2D(),\n",
        "                         layers.BatchNormalization(),\n",
        "\n",
        "                         layers.Conv2D(64,3,activation='relu'),\n",
        "                         layers.MaxPooling2D(),\n",
        "                         layers.BatchNormalization(),\n",
        "\n",
        "                         layers.Flatten(),\n",
        "                         layers.Dense(128,activation='relu'),\n",
        "                         layers.BatchNormalization(),\n",
        "                         layers.Dense(128,activation='relu'),\n",
        "                         layers.BatchNormalization(),\n",
        "\n",
        "                         layers.Dense(1,activation='sigmoid')\n",
        "\n",
        "])"
      ],
      "metadata": {
        "id": "aAOC5PqZUWJr"
      },
      "execution_count": 99,
      "outputs": []
    },
    {
      "cell_type": "code",
      "source": [
        "cnn.compile(optimizer='adam',\n",
        "            loss = 'binary_crossentropy',\n",
        "            metrics = ['accuracy'])"
      ],
      "metadata": {
        "id": "EJhCsBBrVLub"
      },
      "execution_count": null,
      "outputs": []
    },
    {
      "cell_type": "code",
      "source": [
        "cnn.fit(final_data_arr,final_label_arr,epochs=10)"
      ],
      "metadata": {
        "colab": {
          "base_uri": "https://localhost:8080/"
        },
        "id": "Xt8DWM1ERS4c",
        "outputId": "f08bc657-fa50-4aa6-a429-365a8465e404"
      },
      "execution_count": null,
      "outputs": [
        {
          "output_type": "stream",
          "name": "stdout",
          "text": [
            "Epoch 1/10\n",
            "19/19 [==============================] - 56s 2s/step - loss: 1.6673 - accuracy: 0.9366\n",
            "Epoch 2/10\n",
            "19/19 [==============================] - 32s 2s/step - loss: 0.0437 - accuracy: 0.9932\n",
            "Epoch 3/10\n",
            "19/19 [==============================] - 32s 2s/step - loss: 0.0047 - accuracy: 1.0000\n",
            "Epoch 4/10\n",
            "19/19 [==============================] - 32s 2s/step - loss: 0.0681 - accuracy: 0.9932\n",
            "Epoch 5/10\n",
            "19/19 [==============================] - 32s 2s/step - loss: 0.3799 - accuracy: 0.9812\n",
            "Epoch 6/10\n",
            "19/19 [==============================] - 32s 2s/step - loss: 0.1299 - accuracy: 0.9897\n",
            "Epoch 7/10\n",
            "19/19 [==============================] - 32s 2s/step - loss: 0.0119 - accuracy: 0.9983\n",
            "Epoch 8/10\n",
            "19/19 [==============================] - 33s 2s/step - loss: 1.3207e-06 - accuracy: 1.0000\n",
            "Epoch 9/10\n",
            "19/19 [==============================] - 36s 2s/step - loss: 0.0089 - accuracy: 0.9983\n",
            "Epoch 10/10\n",
            "19/19 [==============================] - 32s 2s/step - loss: 0.0303 - accuracy: 0.9949\n"
          ]
        },
        {
          "output_type": "execute_result",
          "data": {
            "text/plain": [
              "<keras.callbacks.History at 0x7f3d09503890>"
            ]
          },
          "metadata": {},
          "execution_count": 77
        }
      ]
    },
    {
      "cell_type": "code",
      "source": [
        "cnn.evaluate(x_test,y_test)"
      ],
      "metadata": {
        "colab": {
          "base_uri": "https://localhost:8080/"
        },
        "id": "4Sd1T7ApW6Az",
        "outputId": "43ec8d12-1b7d-4ff3-b619-0e66b67b8d71"
      },
      "execution_count": null,
      "outputs": [
        {
          "output_type": "stream",
          "name": "stdout",
          "text": [
            "2/2 [==============================] - 1s 84ms/step - loss: 7.4250 - accuracy: 0.7027\n"
          ]
        },
        {
          "output_type": "execute_result",
          "data": {
            "text/plain": [
              "[7.42500114440918, 0.7027027010917664]"
            ]
          },
          "metadata": {},
          "execution_count": 78
        }
      ]
    }
  ]
}